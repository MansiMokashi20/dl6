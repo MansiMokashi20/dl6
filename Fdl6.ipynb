{
  "cells": [
    {
      "cell_type": "markdown",
      "metadata": {
        "id": "31df88ad"
      },
      "source": [
        "### Importing the Dataset"
      ],
      "id": "31df88ad"
    },
    {
      "cell_type": "code",
      "execution_count": null,
      "metadata": {
        "id": "e360e12a"
      },
      "outputs": [],
      "source": [
        "#Object detection using Transfer Learning of CNN architectures\n",
        "import tensorflow_datasets as tfds\n",
        "import tensorflow as tf\n",
        "from tensorflow.keras.utils import to_categorical"
      ],
      "id": "e360e12a"
    },
    {
      "cell_type": "markdown",
      "metadata": {
        "id": "c1da8cd3"
      },
      "source": [
        "### Load images and labels"
      ],
      "id": "c1da8cd3"
    },
    {
      "cell_type": "code",
      "execution_count": null,
      "metadata": {
        "colab": {
          "base_uri": "https://localhost:8080/",
          "height": 103,
          "referenced_widgets": [
            "d6ceb86488f84107819b2351d188809f",
            "fddf1f0fb3d44453a6ec1411814382c7",
            "241cbc7c41be4233990fbd9cce3d2562",
            "feeff914422d419390d1850fc6484106",
            "eb2376bb915b444b99885f71fb98c542",
            "b847ba8d3d014f4c9de97a78e9b34e87",
            "0dcc7724a19f49a1840d8762ba5f094c",
            "4156d7308f514532a6cd08396012a3fe",
            "34b8c0717c8d4820b3b00b8d8101314e",
            "d39717aa1aa44b34aa2a562613a6d88e",
            "7323acf6d54f4996a556a109ac005cff"
          ]
        },
        "id": "f594da8f",
        "outputId": "d93763fe-1b6e-4ed2-ed13-4b1588e97ef3"
      },
      "outputs": [
        {
          "name": "stdout",
          "output_type": "stream",
          "text": [
            "Downloading and preparing dataset 218.21 MiB (download: 218.21 MiB, generated: 221.83 MiB, total: 440.05 MiB) to /root/tensorflow_datasets/tf_flowers/3.0.1...\n"
          ]
        },
        {
          "data": {
            "application/vnd.jupyter.widget-view+json": {
              "model_id": "d6ceb86488f84107819b2351d188809f",
              "version_major": 2,
              "version_minor": 0
            },
            "text/plain": [
              "Dl Completed...:   0%|          | 0/5 [00:00<?, ? file/s]"
            ]
          },
          "metadata": {},
          "output_type": "display_data"
        },
        {
          "name": "stdout",
          "output_type": "stream",
          "text": [
            "Dataset tf_flowers downloaded and prepared to /root/tensorflow_datasets/tf_flowers/3.0.1. Subsequent calls will reuse this data.\n"
          ]
        }
      ],
      "source": [
        "(train_ds, train_labels), (test_ds, test_labels) = tfds.load(\n",
        "    \"tf_flowers\",\n",
        "    split=[\"train[:70%]\", \"train[:30%]\"], ## Train test split\n",
        "    batch_size=-1,\n",
        "    as_supervised=True,  # Include labels\n",
        ")"
      ],
      "id": "f594da8f"
    },
    {
      "cell_type": "markdown",
      "metadata": {
        "id": "4b806261"
      },
      "source": [
        "### Image processiong"
      ],
      "id": "4b806261"
    },
    {
      "cell_type": "code",
      "execution_count": null,
      "metadata": {
        "colab": {
          "base_uri": "https://localhost:8080/"
        },
        "id": "49a6ce45",
        "outputId": "f87b66ac-dbd5-4c19-98f5-2a423be7f758"
      },
      "outputs": [
        {
          "data": {
            "text/plain": [
              "TensorShape([442, 1024, 3])"
            ]
          },
          "execution_count": 4,
          "metadata": {},
          "output_type": "execute_result"
        }
      ],
      "source": [
        "# checking existing image size\n",
        "train_ds[0].shape"
      ],
      "id": "49a6ce45"
    },
    {
      "cell_type": "code",
      "execution_count": null,
      "metadata": {
        "id": "818f7f7f"
      },
      "outputs": [],
      "source": [
        "# resizing the image\n",
        "train_ds = tf.image.resize(train_ds, (150, 150))\n",
        "test_ds = tf.image.resize(test_ds, (150, 150))"
      ],
      "id": "818f7f7f"
    },
    {
      "cell_type": "code",
      "execution_count": null,
      "metadata": {
        "colab": {
          "base_uri": "https://localhost:8080/"
        },
        "id": "e856b34d",
        "outputId": "db02fed3-a9c3-42a3-fe8c-b0a9674e0832"
      },
      "outputs": [
        {
          "data": {
            "text/plain": [
              "<tf.Tensor: shape=(2569,), dtype=int64, numpy=array([2, 3, 3, ..., 0, 2, 0])>"
            ]
          },
          "execution_count": 6,
          "metadata": {},
          "output_type": "execute_result"
        }
      ],
      "source": [
        "train_labels"
      ],
      "id": "e856b34d"
    },
    {
      "cell_type": "code",
      "execution_count": null,
      "metadata": {
        "id": "c2c572a9"
      },
      "outputs": [],
      "source": [
        "# transforming labels to correct format\n",
        "train_labels = to_categorical(train_labels, num_classes=5)\n",
        "test_labels = to_categorical(test_labels, num_classes=5)"
      ],
      "id": "c2c572a9"
    },
    {
      "cell_type": "code",
      "execution_count": null,
      "metadata": {
        "colab": {
          "base_uri": "https://localhost:8080/"
        },
        "id": "452a40a9",
        "outputId": "047974be-8916-4d70-9acc-15542510b03c"
      },
      "outputs": [
        {
          "data": {
            "text/plain": [
              "array([0., 0., 1., 0., 0.], dtype=float32)"
            ]
          },
          "execution_count": 8,
          "metadata": {},
          "output_type": "execute_result"
        }
      ],
      "source": [
        "train_labels[0]"
      ],
      "id": "452a40a9"
    },
    {
      "cell_type": "markdown",
      "metadata": {
        "id": "673f5825"
      },
      "source": [
        "### Using pretrained VGG16 Image Classification model"
      ],
      "id": "673f5825"
    },
    {
      "cell_type": "code",
      "execution_count": null,
      "metadata": {
        "id": "da27f3ae"
      },
      "outputs": [],
      "source": [
        "from tensorflow.keras.applications.vgg16 import VGG16\n",
        "from tensorflow.keras.applications.vgg16 import preprocess_input"
      ],
      "id": "da27f3ae"
    },
    {
      "cell_type": "code",
      "execution_count": null,
      "metadata": {
        "colab": {
          "base_uri": "https://localhost:8080/"
        },
        "id": "85506b8f",
        "outputId": "d54b3abc-ab88-4e76-9e2f-c9781f93a2a8"
      },
      "outputs": [
        {
          "name": "stdout",
          "output_type": "stream",
          "text": [
            "Downloading data from https://storage.googleapis.com/tensorflow/keras-applications/vgg16/vgg16_weights_tf_dim_ordering_tf_kernels_notop.h5\n",
            "58889256/58889256 [==============================] - 2s 0us/step\n"
          ]
        }
      ],
      "source": [
        "# loading VGG16 model\n",
        "base_model = VGG16(\n",
        "    weights='imagenet',\n",
        "    include_top=False,\n",
        "    input_shape=train_ds[0].shape\n",
        ")"
      ],
      "id": "85506b8f"
    },
    {
      "cell_type": "code",
      "execution_count": null,
      "metadata": {
        "id": "961pVlW-JpzR"
      },
      "outputs": [],
      "source": [
        "base_model.trainable = False"
      ],
      "id": "961pVlW-JpzR"
    },
    {
      "cell_type": "code",
      "execution_count": null,
      "metadata": {
        "id": "d57ff455"
      },
      "outputs": [],
      "source": [
        "# Preprocessing Input\n",
        "train_ds = preprocess_input(train_ds)\n",
        "test_ds = preprocess_input(test_ds)"
      ],
      "id": "d57ff455"
    },
    {
      "cell_type": "code",
      "execution_count": null,
      "metadata": {
        "colab": {
          "base_uri": "https://localhost:8080/"
        },
        "id": "9d78da38",
        "outputId": "de3123bf-6c60-4484-9321-24e94ad47819"
      },
      "outputs": [
        {
          "name": "stdout",
          "output_type": "stream",
          "text": [
            "Model: \"vgg16\"\n",
            "_________________________________________________________________\n",
            " Layer (type)                Output Shape              Param #   \n",
            "=================================================================\n",
            " input_1 (InputLayer)        [(None, 150, 150, 3)]     0         \n",
            "                                                                 \n",
            " block1_conv1 (Conv2D)       (None, 150, 150, 64)      1792      \n",
            "                                                                 \n",
            " block1_conv2 (Conv2D)       (None, 150, 150, 64)      36928     \n",
            "                                                                 \n",
            " block1_pool (MaxPooling2D)  (None, 75, 75, 64)        0         \n",
            "                                                                 \n",
            " block2_conv1 (Conv2D)       (None, 75, 75, 128)       73856     \n",
            "                                                                 \n",
            " block2_conv2 (Conv2D)       (None, 75, 75, 128)       147584    \n",
            "                                                                 \n",
            " block2_pool (MaxPooling2D)  (None, 37, 37, 128)       0         \n",
            "                                                                 \n",
            " block3_conv1 (Conv2D)       (None, 37, 37, 256)       295168    \n",
            "                                                                 \n",
            " block3_conv2 (Conv2D)       (None, 37, 37, 256)       590080    \n",
            "                                                                 \n",
            " block3_conv3 (Conv2D)       (None, 37, 37, 256)       590080    \n",
            "                                                                 \n",
            " block3_pool (MaxPooling2D)  (None, 18, 18, 256)       0         \n",
            "                                                                 \n",
            " block4_conv1 (Conv2D)       (None, 18, 18, 512)       1180160   \n",
            "                                                                 \n",
            " block4_conv2 (Conv2D)       (None, 18, 18, 512)       2359808   \n",
            "                                                                 \n",
            " block4_conv3 (Conv2D)       (None, 18, 18, 512)       2359808   \n",
            "                                                                 \n",
            " block4_pool (MaxPooling2D)  (None, 9, 9, 512)         0         \n",
            "                                                                 \n",
            " block5_conv1 (Conv2D)       (None, 9, 9, 512)         2359808   \n",
            "                                                                 \n",
            " block5_conv2 (Conv2D)       (None, 9, 9, 512)         2359808   \n",
            "                                                                 \n",
            " block5_conv3 (Conv2D)       (None, 9, 9, 512)         2359808   \n",
            "                                                                 \n",
            " block5_pool (MaxPooling2D)  (None, 4, 4, 512)         0         \n",
            "                                                                 \n",
            "=================================================================\n",
            "Total params: 14714688 (56.13 MB)\n",
            "Trainable params: 14714688 (56.13 MB)\n",
            "Non-trainable params: 0 (0.00 Byte)\n",
            "_________________________________________________________________\n"
          ]
        }
      ],
      "source": [
        "base_model.summary()"
      ],
      "id": "9d78da38"
    },
    {
      "cell_type": "code",
      "execution_count": null,
      "metadata": {
        "id": "84183299"
      },
      "outputs": [],
      "source": [
        "# Add our own layers on top of this model\n",
        "from tensorflow.keras import layers, models\n",
        "\n",
        "flatten_layer = layers.Flatten()\n",
        "dense_layer_1 = layers.Dense(50, activation='relu')\n",
        "dense_layer_2 = layers.Dense(20, activation='relu')\n",
        "prediction_layer = layers.Dense(5, activation='softmax')\n",
        "\n",
        "model = models.Sequential([\n",
        "    base_model,\n",
        "    flatten_layer,\n",
        "    dense_layer_1,\n",
        "    dense_layer_2,\n",
        "    prediction_layer\n",
        "])"
      ],
      "id": "84183299"
    },
    {
      "cell_type": "code",
      "execution_count": null,
      "metadata": {
        "id": "70f6514a"
      },
      "outputs": [],
      "source": [
        "from tensorflow.keras.callbacks import EarlyStopping\n",
        "\n",
        "model.compile(\n",
        "    optimizer='adam',\n",
        "    loss='categorical_crossentropy',\n",
        "    metrics=['accuracy']\n",
        ")"
      ],
      "id": "70f6514a"
    },
    {
      "cell_type": "code",
      "execution_count": null,
      "metadata": {
        "id": "f0664300"
      },
      "outputs": [],
      "source": [
        "es = EarlyStopping(\n",
        "    monitor='val_accuracy',\n",
        "    mode='max',\n",
        "    patience=5, restore_best_weights=True\n",
        ")"
      ],
      "id": "f0664300"
    },
    {
      "cell_type": "code",
      "execution_count": null,
      "metadata": {
        "colab": {
          "background_save": true,
          "base_uri": "https://localhost:8080/"
        },
        "id": "5e00a2f8",
        "outputId": "aecfe2fc-6c11-4c8e-eefa-22b00dbbc38a"
      },
      "outputs": [
        {
          "name": "stdout",
          "output_type": "stream",
          "text": [
            "Epoch 1/10\n",
            "65/65 [==============================] - 1903s 29s/step - loss: 3.8665 - accuracy: 0.2195 - val_loss: 1.6085 - val_accuracy: 0.2490\n",
            "Epoch 2/10\n",
            "65/65 [==============================] - 1866s 29s/step - loss: 1.6087 - accuracy: 0.2418 - val_loss: 1.6075 - val_accuracy: 0.2490\n",
            "Epoch 3/10\n",
            "65/65 [==============================] - 1870s 29s/step - loss: 1.6053 - accuracy: 0.2487 - val_loss: 1.6064 - val_accuracy: 0.2490\n",
            "Epoch 4/10\n",
            "65/65 [==============================] - 1871s 29s/step - loss: 1.6040 - accuracy: 0.2487 - val_loss: 1.6060 - val_accuracy: 0.2490\n",
            "Epoch 5/10\n",
            "65/65 [==============================] - 1894s 29s/step - loss: 1.6029 - accuracy: 0.2487 - val_loss: 1.6056 - val_accuracy: 0.2490\n",
            "Epoch 6/10\n",
            "65/65 [==============================] - 1905s 29s/step - loss: 1.6019 - accuracy: 0.2487 - val_loss: 1.6053 - val_accuracy: 0.2490\n"
          ]
        }
      ],
      "source": [
        "h = model.fit(\n",
        "    train_ds,\n",
        "    train_labels,\n",
        "    epochs=10,\n",
        "    validation_split=0.2,\n",
        "    batch_size=32,\n",
        "    callbacks=[es]\n",
        ")"
      ],
      "id": "5e00a2f8"
    },
    {
      "cell_type": "code",
      "execution_count": null,
      "metadata": {
        "colab": {
          "background_save": true
        },
        "id": "c75af23d",
        "outputId": "4d8943eb-a7a3-4747-e3ac-acbd3bd0bfb2"
      },
      "outputs": [
        {
          "name": "stdout",
          "output_type": "stream",
          "text": [
            "35/35 [==============================] - 268s 8s/step - loss: 1.6075 - accuracy: 0.2589\n",
            "Loss:  1.6075022220611572 Accuracy:  0.25885558128356934\n"
          ]
        }
      ],
      "source": [
        "loss, accuracy = model.evaluate(test_ds, test_labels)\n",
        "print(\"Loss: \", loss, \"Accuracy: \", accuracy)"
      ],
      "id": "c75af23d"
    },
    {
      "cell_type": "code",
      "execution_count": null,
      "metadata": {
        "colab": {
          "background_save": true
        },
        "id": "2616b06c",
        "outputId": "0f3cbe8f-50ec-458c-8753-b58a19bc6d96"
      },
      "outputs": [
        {
          "data": {
            "image/png": "[encoded data removed]",
            "text/plain": [
              "<Figure size 640x480 with 1 Axes>"
            ]
          },
          "metadata": {},
          "output_type": "display_data"
        }
      ],
      "source": [
        "import matplotlib.pyplot as plt\n",
        "plt.plot(h.history['accuracy'])\n",
        "plt.title('Accuracy')\n",
        "plt.xlabel('accuracy')\n",
        "plt.ylabel('epoch')\n",
        "plt.legend(['train'])\n",
        "plt.show()"
      ],
      "id": "2616b06c"
    },
    {
      "cell_type": "code",
      "execution_count": null,
      "metadata": {
        "colab": {
          "background_save": true
        },
        "id": "7c9c095a",
        "outputId": "0548c939-c05e-4717-ed00-67cb7d2b7a87"
      },
      "outputs": [
        {
          "name": "stdout",
          "output_type": "stream",
          "text": [
            "35/35 [==============================] - 267s 8s/step\n",
            "[0, 0, 0, 0, 0, 0, 0, 0, 0, 0]\n",
            "\n",
            "Test\n",
            "[[0. 0. 1. 0. 0.]\n",
            " [0. 0. 0. 1. 0.]\n",
            " [0. 0. 0. 1. 0.]\n",
            " [0. 0. 0. 0. 1.]\n",
            " [0. 0. 0. 1. 0.]\n",
            " [1. 0. 0. 0. 0.]\n",
            " [1. 0. 0. 0. 0.]\n",
            " [1. 0. 0. 0. 0.]\n",
            " [1. 0. 0. 0. 0.]\n",
            " [0. 1. 0. 0. 0.]]\n"
          ]
        }
      ],
      "source": [
        "import numpy as np\n",
        "import pandas as pd\n",
        "y_pred = model.predict(test_ds)\n",
        "y_classes = [np.argmax(element) for element in y_pred]\n",
        "#to_categorical(y_classes, num_classes=5)\n",
        "#to_categorical(test_labels, num_classes=5)\n",
        "print(y_classes[:10])\n",
        "print(\"\\nTest\")\n",
        "print(test_labels[:10])"
      ],
      "id": "7c9c095a"
    }
  ],
  "metadata": {
    "colab": {
      "provenance": []
    },
    "kernelspec": {
      "display_name": "Python 3 (ipykernel)",
      "language": "python",
      "name": "python3"
    },
    "language_info": {
      "codemirror_mode": {
        "name": "ipython",
        "version": 3
      },
      "file_extension": ".py",
      "mimetype": "text/x-python",
      "name": "python",
      "nbconvert_exporter": "python",
      "pygments_lexer": "ipython3",
      "version": "3.10.6"
    },
    "widgets": {
      "application/vnd.jupyter.widget-state+json": {
        "0dcc7724a19f49a1840d8762ba5f094c": {
          "model_module": "@jupyter-widgets/controls",
          "model_module_version": "1.5.0",
          "model_name": "DescriptionStyleModel",
          "state": {
            "_model_module": "@jupyter-widgets/controls",
            "_model_module_version": "1.5.0",
            "_model_name": "DescriptionStyleModel",
            "_view_count": null,
            "_view_module": "@jupyter-widgets/base",
            "_view_module_version": "1.2.0",
            "_view_name": "StyleView",
            "description_width": ""
          }
        },
        "241cbc7c41be4233990fbd9cce3d2562": {
          "model_module": "@jupyter-widgets/controls",
          "model_module_version": "1.5.0",
          "model_name": "FloatProgressModel",
          "state": {
            "_dom_classes": [],
            "_model_module": "@jupyter-widgets/controls",
            "_model_module_version": "1.5.0",
            "_model_name": "FloatProgressModel",
            "_view_count": null,
            "_view_module": "@jupyter-widgets/controls",
            "_view_module_version": "1.5.0",
            "_view_name": "ProgressView",
            "bar_style": "success",
            "description": "",
            "description_tooltip": null,
            "layout": "IPY_MODEL_4156d7308f514532a6cd08396012a3fe",
            "max": 5,
            "min": 0,
            "orientation": "horizontal",
            "style": "IPY_MODEL_34b8c0717c8d4820b3b00b8d8101314e",
            "value": 5
          }
        },
        "34b8c0717c8d4820b3b00b8d8101314e": {
          "model_module": "@jupyter-widgets/controls",
          "model_module_version": "1.5.0",
          "model_name": "ProgressStyleModel",
          "state": {
            "_model_module": "@jupyter-widgets/controls",
            "_model_module_version": "1.5.0",
            "_model_name": "ProgressStyleModel",
            "_view_count": null,
            "_view_module": "@jupyter-widgets/base",
            "_view_module_version": "1.2.0",
            "_view_name": "StyleView",
            "bar_color": null,
            "description_width": ""
          }
        },
        "4156d7308f514532a6cd08396012a3fe": {
          "model_module": "@jupyter-widgets/base",
          "model_module_version": "1.2.0",
          "model_name": "LayoutModel",
          "state": {
            "_model_module": "@jupyter-widgets/base",
            "_model_module_version": "1.2.0",
            "_model_name": "LayoutModel",
            "_view_count": null,
            "_view_module": "@jupyter-widgets/base",
            "_view_module_version": "1.2.0",
            "_view_name": "LayoutView",
            "align_content": null,
            "align_items": null,
            "align_self": null,
            "border": null,
            "bottom": null,
            "display": null,
            "flex": null,
            "flex_flow": null,
            "grid_area": null,
            "grid_auto_columns": null,
            "grid_auto_flow": null,
            "grid_auto_rows": null,
            "grid_column": null,
            "grid_gap": null,
            "grid_row": null,
            "grid_template_areas": null,
            "grid_template_columns": null,
            "grid_template_rows": null,
            "height": null,
            "justify_content": null,
            "justify_items": null,
            "left": null,
            "margin": null,
            "max_height": null,
            "max_width": null,
            "min_height": null,
            "min_width": null,
            "object_fit": null,
            "object_position": null,
            "order": null,
            "overflow": null,
            "overflow_x": null,
            "overflow_y": null,
            "padding": null,
            "right": null,
            "top": null,
            "visibility": null,
            "width": null
          }
        },
        "7323acf6d54f4996a556a109ac005cff": {
          "model_module": "@jupyter-widgets/controls",
          "model_module_version": "1.5.0",
          "model_name": "DescriptionStyleModel",
          "state": {
            "_model_module": "@jupyter-widgets/controls",
            "_model_module_version": "1.5.0",
            "_model_name": "DescriptionStyleModel",
            "_view_count": null,
            "_view_module": "@jupyter-widgets/base",
            "_view_module_version": "1.2.0",
            "_view_name": "StyleView",
            "description_width": ""
          }
        },
        "b847ba8d3d014f4c9de97a78e9b34e87": {
          "model_module": "@jupyter-widgets/base",
          "model_module_version": "1.2.0",
          "model_name": "LayoutModel",
          "state": {
            "_model_module": "@jupyter-widgets/base",
            "_model_module_version": "1.2.0",
            "_model_name": "LayoutModel",
            "_view_count": null,
            "_view_module": "@jupyter-widgets/base",
            "_view_module_version": "1.2.0",
            "_view_name": "LayoutView",
            "align_content": null,
            "align_items": null,
            "align_self": null,
            "border": null,
            "bottom": null,
            "display": null,
            "flex": null,
            "flex_flow": null,
            "grid_area": null,
            "grid_auto_columns": null,
            "grid_auto_flow": null,
            "grid_auto_rows": null,
            "grid_column": null,
            "grid_gap": null,
            "grid_row": null,
            "grid_template_areas": null,
            "grid_template_columns": null,
            "grid_template_rows": null,
            "height": null,
            "justify_content": null,
            "justify_items": null,
            "left": null,
            "margin": null,
            "max_height": null,
            "max_width": null,
            "min_height": null,
            "min_width": null,
            "object_fit": null,
            "object_position": null,
            "order": null,
            "overflow": null,
            "overflow_x": null,
            "overflow_y": null,
            "padding": null,
            "right": null,
            "top": null,
            "visibility": null,
            "width": null
          }
        },
        "d39717aa1aa44b34aa2a562613a6d88e": {
          "model_module": "@jupyter-widgets/base",
          "model_module_version": "1.2.0",
          "model_name": "LayoutModel",
          "state": {
            "_model_module": "@jupyter-widgets/base",
            "_model_module_version": "1.2.0",
            "_model_name": "LayoutModel",
            "_view_count": null,
            "_view_module": "@jupyter-widgets/base",
            "_view_module_version": "1.2.0",
            "_view_name": "LayoutView",
            "align_content": null,
            "align_items": null,
            "align_self": null,
            "border": null,
            "bottom": null,
            "display": null,
            "flex": null,
            "flex_flow": null,
            "grid_area": null,
            "grid_auto_columns": null,
            "grid_auto_flow": null,
            "grid_auto_rows": null,
            "grid_column": null,
            "grid_gap": null,
            "grid_row": null,
            "grid_template_areas": null,
            "grid_template_columns": null,
            "grid_template_rows": null,
            "height": null,
            "justify_content": null,
            "justify_items": null,
            "left": null,
            "margin": null,
            "max_height": null,
            "max_width": null,
            "min_height": null,
            "min_width": null,
            "object_fit": null,
            "object_position": null,
            "order": null,
            "overflow": null,
            "overflow_x": null,
            "overflow_y": null,
            "padding": null,
            "right": null,
            "top": null,
            "visibility": null,
            "width": null
          }
        },
        "d6ceb86488f84107819b2351d188809f": {
          "model_module": "@jupyter-widgets/controls",
          "model_module_version": "1.5.0",
          "model_name": "HBoxModel",
          "state": {
            "_dom_classes": [],
            "_model_module": "@jupyter-widgets/controls",
            "_model_module_version": "1.5.0",
            "_model_name": "HBoxModel",
            "_view_count": null,
            "_view_module": "@jupyter-widgets/controls",
            "_view_module_version": "1.5.0",
            "_view_name": "HBoxView",
            "box_style": "",
            "children": [
              "IPY_MODEL_fddf1f0fb3d44453a6ec1411814382c7",
              "IPY_MODEL_241cbc7c41be4233990fbd9cce3d2562",
              "IPY_MODEL_feeff914422d419390d1850fc6484106"
            ],
            "layout": "IPY_MODEL_eb2376bb915b444b99885f71fb98c542"
          }
        },
        "eb2376bb915b444b99885f71fb98c542": {
          "model_module": "@jupyter-widgets/base",
          "model_module_version": "1.2.0",
          "model_name": "LayoutModel",
          "state": {
            "_model_module": "@jupyter-widgets/base",
            "_model_module_version": "1.2.0",
            "_model_name": "LayoutModel",
            "_view_count": null,
            "_view_module": "@jupyter-widgets/base",
            "_view_module_version": "1.2.0",
            "_view_name": "LayoutView",
            "align_content": null,
            "align_items": null,
            "align_self": null,
            "border": null,
            "bottom": null,
            "display": null,
            "flex": null,
            "flex_flow": null,
            "grid_area": null,
            "grid_auto_columns": null,
            "grid_auto_flow": null,
            "grid_auto_rows": null,
            "grid_column": null,
            "grid_gap": null,
            "grid_row": null,
            "grid_template_areas": null,
            "grid_template_columns": null,
            "grid_template_rows": null,
            "height": null,
            "justify_content": null,
            "justify_items": null,
            "left": null,
            "margin": null,
            "max_height": null,
            "max_width": null,
            "min_height": null,
            "min_width": null,
            "object_fit": null,
            "object_position": null,
            "order": null,
            "overflow": null,
            "overflow_x": null,
            "overflow_y": null,
            "padding": null,
            "right": null,
            "top": null,
            "visibility": null,
            "width": null
          }
        },
        "fddf1f0fb3d44453a6ec1411814382c7": {
          "model_module": "@jupyter-widgets/controls",
          "model_module_version": "1.5.0",
          "model_name": "HTMLModel",
          "state": {
            "_dom_classes": [],
            "_model_module": "@jupyter-widgets/controls",
            "_model_module_version": "1.5.0",
            "_model_name": "HTMLModel",
            "_view_count": null,
            "_view_module": "@jupyter-widgets/controls",
            "_view_module_version": "1.5.0",
            "_view_name": "HTMLView",
            "description": "",
            "description_tooltip": null,
            "layout": "IPY_MODEL_b847ba8d3d014f4c9de97a78e9b34e87",
            "placeholder": "​",
            "style": "IPY_MODEL_0dcc7724a19f49a1840d8762ba5f094c",
            "value": "Dl Completed...: 100%"
          }
        },
        "feeff914422d419390d1850fc6484106": {
          "model_module": "@jupyter-widgets/controls",
          "model_module_version": "1.5.0",
          "model_name": "HTMLModel",
          "state": {
            "_dom_classes": [],
            "_model_module": "@jupyter-widgets/controls",
            "_model_module_version": "1.5.0",
            "_model_name": "HTMLModel",
            "_view_count": null,
            "_view_module": "@jupyter-widgets/controls",
            "_view_module_version": "1.5.0",
            "_view_name": "HTMLView",
            "description": "",
            "description_tooltip": null,
            "layout": "IPY_MODEL_d39717aa1aa44b34aa2a562613a6d88e",
            "placeholder": "​",
            "style": "IPY_MODEL_7323acf6d54f4996a556a109ac005cff",
            "value": " 5/5 [00:09&lt;00:00,  2.02s/ file]"
          }
        }
      }
    }
  },
  "nbformat": 4,
  "nbformat_minor": 5
}